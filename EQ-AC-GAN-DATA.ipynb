{
 "cells": [
  {
   "cell_type": "code",
   "execution_count": 1,
   "metadata": {},
   "outputs": [
    {
     "data": {
      "application/vnd.jupyter.widget-view+json": {
       "model_id": "4e3b998b0f1c43a68d6cffcf05510163",
       "version_major": 2,
       "version_minor": 0
      },
      "text/plain": [
       "VBox(children=(IntSlider(value=0, description='Row:', max=4), IntSlider(value=0, description='Column:', max=4)…"
      ]
     },
     "metadata": {},
     "output_type": "display_data"
    },
    {
     "name": "stdout",
     "output_type": "stream",
     "text": [
      "Element at row 1 and column 0: 94\n",
      "Element at row 0 and column 0: 98\n"
     ]
    }
   ],
   "source": [
    "import numpy as np\n",
    "import ipywidgets as widgets\n",
    "from IPython.display import display\n",
    "\n",
    "# Create a sample NumPy array\n",
    "array = np.random.randint(0, 100, size=(5, 5))\n",
    "\n",
    "def display_element(row, col):\n",
    "    \"\"\"\n",
    "    Function to display the element at the specified row and column.\n",
    "    \"\"\"\n",
    "    element = array[row, col]\n",
    "    print(f\"Element at row {row} and column {col}: {element}\")\n",
    "\n",
    "# Create interactive widgets\n",
    "row_slider = widgets.IntSlider(value=0, min=0, max=array.shape[0]-1, description='Row:')\n",
    "col_slider = widgets.IntSlider(value=0, min=0, max=array.shape[1]-1, description='Column:')\n",
    "button = widgets.Button(description='Display Element')\n",
    "\n",
    "# Define callback function for button click\n",
    "def on_button_click(button):\n",
    "    \"\"\"\n",
    "    Callback function to display the element when the button is clicked.\n",
    "    \"\"\"\n",
    "    row = row_slider.value\n",
    "    col = col_slider.value\n",
    "    display_element(row, col)\n",
    "\n",
    "button.on_click(on_button_click)\n",
    "\n",
    "# Display the widgets\n",
    "display(widgets.VBox([row_slider, col_slider, button]))"
   ]
  },
  {
   "cell_type": "code",
   "execution_count": null,
   "metadata": {},
   "outputs": [],
   "source": []
  }
 ],
 "metadata": {
  "kernelspec": {
   "display_name": "Python 3",
   "language": "python",
   "name": "python3"
  },
  "language_info": {
   "codemirror_mode": {
    "name": "ipython",
    "version": 3
   },
   "file_extension": ".py",
   "mimetype": "text/x-python",
   "name": "python",
   "nbconvert_exporter": "python",
   "pygments_lexer": "ipython3",
   "version": "3.7.6"
  }
 },
 "nbformat": 4,
 "nbformat_minor": 4
}
